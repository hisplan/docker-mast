{
 "cells": [
  {
   "cell_type": "markdown",
   "id": "806a0be3",
   "metadata": {},
   "source": [
    "## Import Python Packages"
   ]
  },
  {
   "cell_type": "code",
   "execution_count": 1,
   "id": "2120ec2f",
   "metadata": {},
   "outputs": [],
   "source": [
    "import pandas as pd\n",
    "import scanpy as sc\n",
    "import tarfile"
   ]
  },
  {
   "cell_type": "code",
   "execution_count": 2,
   "id": "df004e96",
   "metadata": {},
   "outputs": [],
   "source": [
    "# RPy2 converter from AnnData to SingleCellExperiment and vice versa\n",
    "# https://github.com/theislab/anndata2ri\n",
    "import anndata2ri\n",
    "\n",
    "# activate the conversion before you load the extension:\n",
    "anndata2ri.activate()\n",
    "\n",
    "%load_ext rpy2.ipython"
   ]
  },
  {
   "cell_type": "markdown",
   "id": "c6cf3439",
   "metadata": {},
   "source": [
    "## Import R Packages"
   ]
  },
  {
   "cell_type": "code",
   "execution_count": 3,
   "id": "af983c27",
   "metadata": {},
   "outputs": [],
   "source": [
    "%%R\n",
    "\n",
    "suppressPackageStartupMessages(library(data.table))"
   ]
  },
  {
   "cell_type": "code",
   "execution_count": 4,
   "id": "42e541f0",
   "metadata": {},
   "outputs": [
    {
     "name": "stdout",
     "output_type": "stream",
     "text": [
      "R version 4.1.0 (2021-05-18)\n",
      "Platform: x86_64-conda-linux-gnu (64-bit)\n",
      "Running under: Ubuntu 20.04.2 LTS\n",
      "\n",
      "Matrix products: default\n",
      "BLAS/LAPACK: /opt/conda/lib/libopenblasp-r0.3.17.so\n",
      "\n",
      "locale:\n",
      " [1] LC_CTYPE=en_US.UTF-8       LC_NUMERIC=C              \n",
      " [3] LC_TIME=en_US.UTF-8        LC_COLLATE=en_US.UTF-8    \n",
      " [5] LC_MONETARY=en_US.UTF-8    LC_MESSAGES=en_US.UTF-8   \n",
      " [7] LC_PAPER=en_US.UTF-8       LC_NAME=C                 \n",
      " [9] LC_ADDRESS=C               LC_TELEPHONE=C            \n",
      "[11] LC_MEASUREMENT=en_US.UTF-8 LC_IDENTIFICATION=C       \n",
      "\n",
      "attached base packages:\n",
      "[1] tools     stats     graphics  grDevices utils     datasets  methods  \n",
      "[8] base     \n",
      "\n",
      "other attached packages:\n",
      "[1] data.table_1.14.0\n",
      "\n",
      "loaded via a namespace (and not attached):\n",
      "[1] compiler_4.1.0\n"
     ]
    }
   ],
   "source": [
    "%%R\n",
    "\n",
    "sessionInfo()"
   ]
  },
  {
   "cell_type": "markdown",
   "id": "e911e56a",
   "metadata": {},
   "source": [
    "## Parameters"
   ]
  },
  {
   "cell_type": "code",
   "execution_count": 5,
   "id": "c2a63f6b",
   "metadata": {
    "tags": [
     "parameters"
    ]
   },
   "outputs": [],
   "source": [
    "path_h5ad = \"/data/processed_data.h5ad\"\n",
    "cluster_obs_name = \"Clusters\""
   ]
  },
  {
   "cell_type": "markdown",
   "id": "887902ff",
   "metadata": {},
   "source": [
    "## Load h5ad"
   ]
  },
  {
   "cell_type": "code",
   "execution_count": 6,
   "id": "4229175f",
   "metadata": {},
   "outputs": [],
   "source": [
    "adata = sc.read_h5ad(path_h5ad)"
   ]
  },
  {
   "cell_type": "code",
   "execution_count": 7,
   "id": "292f664d",
   "metadata": {},
   "outputs": [
    {
     "data": {
      "text/plain": [
       "120703424257380     9\n",
       "120703455455644     3\n",
       "120703455480742    15\n",
       "120726897191836     0\n",
       "120726912354163     3\n",
       "                   ..\n",
       "241114562058980    10\n",
       "241114576546654     2\n",
       "241114576709476     0\n",
       "241114589615901     1\n",
       "241114589645541     1\n",
       "Name: Clusters, Length: 2610, dtype: category\n",
       "Categories (17, int64): [0, 1, 2, 3, ..., 13, 14, 15, 16]"
      ]
     },
     "execution_count": 7,
     "metadata": {},
     "output_type": "execute_result"
    }
   ],
   "source": [
    "adata.obs[cluster_obs_name]"
   ]
  },
  {
   "cell_type": "code",
   "execution_count": 8,
   "id": "9d4c55f0",
   "metadata": {},
   "outputs": [
    {
     "data": {
      "text/plain": [
       "[0, 1, 2, 3, 4, 5, 6, 7, 8, 9, 10, 11, 12, 13, 14, 15, 16]"
      ]
     },
     "execution_count": 8,
     "metadata": {},
     "output_type": "execute_result"
    }
   ],
   "source": [
    "clusters = adata.obs[cluster_obs_name].unique().sort_values().tolist()\n",
    "clusters"
   ]
  },
  {
   "cell_type": "markdown",
   "id": "0f72adb2",
   "metadata": {},
   "source": [
    "## Create SingleCellExperiment Object"
   ]
  },
  {
   "cell_type": "code",
   "execution_count": 9,
   "id": "3d6740b2",
   "metadata": {},
   "outputs": [],
   "source": [
    "# since we want to compute differentially expressed genes comparing a cluster to rest of the data,\n",
    "# we supply the cluster labels as part of sce_v2\n",
    "\n",
    "# note: Python saves cluster assignments as categorical, but R rejects numeric as categories\n",
    "# to avoid this, convert the clusters into a list (originally a pandas categories)\n",
    "\n",
    "sce_v2 = sc.AnnData(\n",
    "    X = adata.X, \n",
    "    obs = pd.DataFrame(\n",
    "        {'cluster_label': [j for j in adata.obs[cluster_obs_name]]}, \n",
    "        index = adata.obs.index\n",
    "    ),\n",
    "    var = pd.DataFrame(index = adata.var.index)\n",
    ")"
   ]
  },
  {
   "cell_type": "code",
   "execution_count": 10,
   "id": "de5778dd",
   "metadata": {},
   "outputs": [
    {
     "data": {
      "text/plain": [
       "AnnData object with n_obs × n_vars = 2610 × 15199\n",
       "    obs: 'cluster_label'"
      ]
     },
     "execution_count": 10,
     "metadata": {},
     "output_type": "execute_result"
    }
   ],
   "source": [
    "sce_v2"
   ]
  },
  {
   "cell_type": "code",
   "execution_count": 11,
   "id": "ef8e2a44",
   "metadata": {},
   "outputs": [],
   "source": [
    "# -i implies we are supplying sce as an input to R\n",
    "%R -i sce_v2"
   ]
  },
  {
   "cell_type": "code",
   "execution_count": 12,
   "id": "e2fe3163",
   "metadata": {},
   "outputs": [
    {
     "name": "stdout",
     "output_type": "stream",
     "text": [
      "Finished Setup\n"
     ]
    }
   ],
   "source": [
    "# set up a single cell experiment object in R, using the raw data stored in 'X' in sce anndata object\n",
    "%R counts(sce_v2) <- assay(sce_v2, \"X\"); \n",
    "print(\"Finished Setup\")"
   ]
  },
  {
   "cell_type": "code",
   "execution_count": 13,
   "id": "f3d59a5b",
   "metadata": {},
   "outputs": [
    {
     "data": {
      "text/plain": [
       "array([[2.06040192, 0.        , 0.        , ..., 0.        , 0.        ,\n",
       "        0.        ],\n",
       "       [0.        , 0.        , 0.        , ..., 0.        , 0.        ,\n",
       "        0.        ],\n",
       "       [0.        , 0.        , 0.        , ..., 0.        , 0.        ,\n",
       "        0.        ],\n",
       "       ...,\n",
       "       [0.        , 0.        , 0.        , ..., 0.        , 0.        ,\n",
       "        0.        ],\n",
       "       [0.        , 0.        , 0.        , ..., 0.        , 0.        ,\n",
       "        0.        ],\n",
       "       [0.        , 0.        , 0.        , ..., 0.        , 0.        ,\n",
       "        0.        ]])"
      ]
     },
     "execution_count": 13,
     "metadata": {},
     "output_type": "execute_result"
    }
   ],
   "source": [
    "%R assay(sce_v2)"
   ]
  },
  {
   "cell_type": "code",
   "execution_count": 14,
   "id": "46451cba",
   "metadata": {},
   "outputs": [
    {
     "data": {
      "text/html": [
       "<div>\n",
       "<style scoped>\n",
       "    .dataframe tbody tr th:only-of-type {\n",
       "        vertical-align: middle;\n",
       "    }\n",
       "\n",
       "    .dataframe tbody tr th {\n",
       "        vertical-align: top;\n",
       "    }\n",
       "\n",
       "    .dataframe thead th {\n",
       "        text-align: right;\n",
       "    }\n",
       "</style>\n",
       "<table border=\"1\" class=\"dataframe\">\n",
       "  <thead>\n",
       "    <tr style=\"text-align: right;\">\n",
       "      <th></th>\n",
       "      <th>cluster_label</th>\n",
       "    </tr>\n",
       "  </thead>\n",
       "  <tbody>\n",
       "    <tr>\n",
       "      <th>120703424257380</th>\n",
       "      <td>9</td>\n",
       "    </tr>\n",
       "    <tr>\n",
       "      <th>120703455455644</th>\n",
       "      <td>3</td>\n",
       "    </tr>\n",
       "    <tr>\n",
       "      <th>120703455480742</th>\n",
       "      <td>15</td>\n",
       "    </tr>\n",
       "    <tr>\n",
       "      <th>120726897191836</th>\n",
       "      <td>0</td>\n",
       "    </tr>\n",
       "    <tr>\n",
       "      <th>120726912354163</th>\n",
       "      <td>3</td>\n",
       "    </tr>\n",
       "    <tr>\n",
       "      <th>120726943845173</th>\n",
       "      <td>9</td>\n",
       "    </tr>\n",
       "  </tbody>\n",
       "</table>\n",
       "</div>"
      ],
      "text/plain": [
       "                 cluster_label\n",
       "120703424257380              9\n",
       "120703455455644              3\n",
       "120703455480742             15\n",
       "120726897191836              0\n",
       "120726912354163              3\n",
       "120726943845173              9"
      ]
     },
     "execution_count": 14,
     "metadata": {},
     "output_type": "execute_result"
    }
   ],
   "source": [
    "%R head(colData(sce_v2))"
   ]
  },
  {
   "cell_type": "code",
   "execution_count": 15,
   "id": "8e15f12f",
   "metadata": {},
   "outputs": [
    {
     "data": {
      "text/html": [
       "<div>\n",
       "<style scoped>\n",
       "    .dataframe tbody tr th:only-of-type {\n",
       "        vertical-align: middle;\n",
       "    }\n",
       "\n",
       "    .dataframe tbody tr th {\n",
       "        vertical-align: top;\n",
       "    }\n",
       "\n",
       "    .dataframe thead th {\n",
       "        text-align: right;\n",
       "    }\n",
       "</style>\n",
       "<table border=\"1\" class=\"dataframe\">\n",
       "  <thead>\n",
       "    <tr style=\"text-align: right;\">\n",
       "      <th></th>\n",
       "    </tr>\n",
       "  </thead>\n",
       "  <tbody>\n",
       "    <tr>\n",
       "      <th>GNAI3</th>\n",
       "    </tr>\n",
       "    <tr>\n",
       "      <th>CDC45</th>\n",
       "    </tr>\n",
       "    <tr>\n",
       "      <th>APOH</th>\n",
       "    </tr>\n",
       "    <tr>\n",
       "      <th>NARF</th>\n",
       "    </tr>\n",
       "    <tr>\n",
       "      <th>CAV2</th>\n",
       "    </tr>\n",
       "    <tr>\n",
       "      <th>KLF6</th>\n",
       "    </tr>\n",
       "  </tbody>\n",
       "</table>\n",
       "</div>"
      ],
      "text/plain": [
       "Empty DataFrame\n",
       "Columns: []\n",
       "Index: [GNAI3, CDC45, APOH, NARF, CAV2, KLF6]"
      ]
     },
     "execution_count": 15,
     "metadata": {},
     "output_type": "execute_result"
    }
   ],
   "source": [
    "%R head(rowData(sce_v2))"
   ]
  },
  {
   "cell_type": "markdown",
   "id": "56dd7a4c",
   "metadata": {},
   "source": [
    "## Prepare Pairwise Data"
   ]
  },
  {
   "cell_type": "code",
   "execution_count": 16,
   "id": "1b691261",
   "metadata": {},
   "outputs": [
    {
     "name": "stdout",
     "output_type": "stream",
     "text": [
      "[1] \"Preparing for cluster 9\"\n",
      "[1] \"Preparing for cluster 3\"\n",
      "[1] \"Preparing for cluster 15\"\n",
      "[1] \"Preparing for cluster 0\"\n",
      "[1] \"Preparing for cluster 2\"\n",
      "[1] \"Preparing for cluster 5\"\n",
      "[1] \"Preparing for cluster 7\"\n",
      "[1] \"Preparing for cluster 8\"\n",
      "[1] \"Preparing for cluster 1\"\n",
      "[1] \"Preparing for cluster 6\"\n",
      "[1] \"Preparing for cluster 10\"\n",
      "[1] \"Preparing for cluster 4\"\n",
      "[1] \"Preparing for cluster 11\"\n",
      "[1] \"Preparing for cluster 13\"\n",
      "[1] \"Preparing for cluster 12\"\n",
      "[1] \"Preparing for cluster 14\"\n",
      "[1] \"Preparing for cluster 16\"\n"
     ]
    }
   ],
   "source": [
    "%%R \n",
    "\n",
    "for (j in unique(colData(sce_v2)$cluster_label)) {\n",
    "    print(paste0('Preparing for cluster ', toString(j)))\n",
    "    \n",
    "    # identify cells belonging a specific cluster\n",
    "    id_cells <- which(colData(sce_v2)$cluster_label == j)\n",
    "    \n",
    "    # identify cells belonging to rest of the clusters\n",
    "    id_cells_rest <- which(colData(sce_v2)$cluster_label != j)\n",
    "    \n",
    "    # Create two dataframes: \n",
    "    df1 <- t(data.frame(counts(sce_v2)[, id_cells])) # transpose because in sce genes are rows\n",
    "    df2 <- t(data.frame(counts(sce_v2)[, id_cells_rest])) # transpose because in sce genes are rows\n",
    "    \n",
    "    # save as RDS\n",
    "    saveRDS(df1, file = paste0(\"df.\", toString(j), \".RDS\"))\n",
    "    saveRDS(df2, file = paste0(\"df.\", toString(j), \".rest.RDS\"))\n",
    "}"
   ]
  },
  {
   "cell_type": "markdown",
   "id": "7701908e",
   "metadata": {},
   "source": [
    "## Tar Gzip"
   ]
  },
  {
   "cell_type": "code",
   "execution_count": 17,
   "id": "bb4e1a5e",
   "metadata": {},
   "outputs": [
    {
     "name": "stdout",
     "output_type": "stream",
     "text": [
      "Writing df.0.tgz\n",
      "Writing df.1.tgz\n",
      "Writing df.2.tgz\n",
      "Writing df.3.tgz\n",
      "Writing df.4.tgz\n",
      "Writing df.5.tgz\n",
      "Writing df.6.tgz\n",
      "Writing df.7.tgz\n",
      "Writing df.8.tgz\n",
      "Writing df.9.tgz\n",
      "Writing df.10.tgz\n",
      "Writing df.11.tgz\n",
      "Writing df.12.tgz\n",
      "Writing df.13.tgz\n",
      "Writing df.14.tgz\n",
      "Writing df.15.tgz\n",
      "Writing df.16.tgz\n"
     ]
    }
   ],
   "source": [
    "for cluster in clusters:\n",
    "    print(f\"Writing df.{cluster}.tgz\")\n",
    "    with tarfile.open(f\"df.{cluster}.tgz\", \"w:gz\") as tar:\n",
    "        tar.add(f\"df.{cluster}.RDS\")\n",
    "        tar.add(f\"df.{cluster}.rest.RDS\")        "
   ]
  },
  {
   "cell_type": "code",
   "execution_count": null,
   "id": "01a789ee",
   "metadata": {},
   "outputs": [],
   "source": []
  }
 ],
 "metadata": {
  "kernelspec": {
   "display_name": "Python 3 (ipykernel)",
   "language": "python",
   "name": "python3"
  },
  "language_info": {
   "codemirror_mode": {
    "name": "ipython",
    "version": 3
   },
   "file_extension": ".py",
   "mimetype": "text/x-python",
   "name": "python",
   "nbconvert_exporter": "python",
   "pygments_lexer": "ipython3",
   "version": "3.9.6"
  }
 },
 "nbformat": 4,
 "nbformat_minor": 5
}
